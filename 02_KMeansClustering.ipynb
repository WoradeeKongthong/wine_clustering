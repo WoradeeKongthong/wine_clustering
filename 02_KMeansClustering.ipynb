{
  "nbformat": 4,
  "nbformat_minor": 0,
  "metadata": {
    "colab": {
      "name": "02_KMeansClustering.ipynb",
      "provenance": [],
      "authorship_tag": "ABX9TyNfW+n2FvALcsk6/J/ubYmS",
      "include_colab_link": true
    },
    "kernelspec": {
      "name": "python3",
      "display_name": "Python 3"
    }
  },
  "cells": [
    {
      "cell_type": "markdown",
      "metadata": {
        "id": "view-in-github",
        "colab_type": "text"
      },
      "source": [
        "<a href=\"https://colab.research.google.com/github/WoradeeKongthong/wine_clustering/blob/master/02_KMeansClustering.ipynb\" target=\"_parent\"><img src=\"https://colab.research.google.com/assets/colab-badge.svg\" alt=\"Open In Colab\"/></a>"
      ]
    },
    {
      "cell_type": "code",
      "metadata": {
        "id": "TmtdYaTROlRW",
        "colab_type": "code",
        "outputId": "007ef747-0284-406d-c4e7-b3ab3c4a359e",
        "colab": {
          "base_uri": "https://localhost:8080/",
          "height": 71
        }
      },
      "source": [
        "# libraries\n",
        "import numpy as np\n",
        "import pandas as pd\n",
        "import matplotlib.pyplot as plt\n",
        "import seaborn as sns\n",
        "\n",
        "from sklearn.preprocessing import StandardScaler\n",
        "from sklearn.compose import ColumnTransformer\n",
        "from sklearn.pipeline import Pipeline\n",
        "from sklearn.cluster import KMeans\n",
        "from sklearn.decomposition import PCA"
      ],
      "execution_count": 1,
      "outputs": [
        {
          "output_type": "stream",
          "text": [
            "/usr/local/lib/python3.6/dist-packages/statsmodels/tools/_testing.py:19: FutureWarning: pandas.util.testing is deprecated. Use the functions in the public API at pandas.testing instead.\n",
            "  import pandas.util.testing as tm\n"
          ],
          "name": "stderr"
        }
      ]
    },
    {
      "cell_type": "markdown",
      "metadata": {
        "id": "Zj8KdURUVUXa",
        "colab_type": "text"
      },
      "source": [
        "# Data Set"
      ]
    },
    {
      "cell_type": "code",
      "metadata": {
        "id": "skLlNF31O01V",
        "colab_type": "code",
        "colab": {}
      },
      "source": [
        "df = pd.read_csv('https://raw.githubusercontent.com/WoradeeKongthong/wine_clustering/master/wine-clustering.csv')"
      ],
      "execution_count": 0,
      "outputs": []
    },
    {
      "cell_type": "code",
      "metadata": {
        "id": "1vePF_w4fbA_",
        "colab_type": "code",
        "colab": {
          "base_uri": "https://localhost:8080/",
          "height": 439
        },
        "outputId": "7357a7e3-66fd-44bd-eb42-4e55fd0be9e3"
      },
      "source": [
        "df"
      ],
      "execution_count": 3,
      "outputs": [
        {
          "output_type": "execute_result",
          "data": {
            "text/html": [
              "<div>\n",
              "<style scoped>\n",
              "    .dataframe tbody tr th:only-of-type {\n",
              "        vertical-align: middle;\n",
              "    }\n",
              "\n",
              "    .dataframe tbody tr th {\n",
              "        vertical-align: top;\n",
              "    }\n",
              "\n",
              "    .dataframe thead th {\n",
              "        text-align: right;\n",
              "    }\n",
              "</style>\n",
              "<table border=\"1\" class=\"dataframe\">\n",
              "  <thead>\n",
              "    <tr style=\"text-align: right;\">\n",
              "      <th></th>\n",
              "      <th>Alcohol</th>\n",
              "      <th>Malic_Acid</th>\n",
              "      <th>Ash</th>\n",
              "      <th>Ash_Alcanity</th>\n",
              "      <th>Magnesium</th>\n",
              "      <th>Total_Phenols</th>\n",
              "      <th>Flavanoids</th>\n",
              "      <th>Nonflavanoid_Phenols</th>\n",
              "      <th>Proanthocyanins</th>\n",
              "      <th>Color_Intensity</th>\n",
              "      <th>Hue</th>\n",
              "      <th>OD280</th>\n",
              "      <th>Proline</th>\n",
              "    </tr>\n",
              "  </thead>\n",
              "  <tbody>\n",
              "    <tr>\n",
              "      <th>0</th>\n",
              "      <td>14.23</td>\n",
              "      <td>1.71</td>\n",
              "      <td>2.43</td>\n",
              "      <td>15.6</td>\n",
              "      <td>127</td>\n",
              "      <td>2.80</td>\n",
              "      <td>3.06</td>\n",
              "      <td>0.28</td>\n",
              "      <td>2.29</td>\n",
              "      <td>5.64</td>\n",
              "      <td>1.04</td>\n",
              "      <td>3.92</td>\n",
              "      <td>1065</td>\n",
              "    </tr>\n",
              "    <tr>\n",
              "      <th>1</th>\n",
              "      <td>13.20</td>\n",
              "      <td>1.78</td>\n",
              "      <td>2.14</td>\n",
              "      <td>11.2</td>\n",
              "      <td>100</td>\n",
              "      <td>2.65</td>\n",
              "      <td>2.76</td>\n",
              "      <td>0.26</td>\n",
              "      <td>1.28</td>\n",
              "      <td>4.38</td>\n",
              "      <td>1.05</td>\n",
              "      <td>3.40</td>\n",
              "      <td>1050</td>\n",
              "    </tr>\n",
              "    <tr>\n",
              "      <th>2</th>\n",
              "      <td>13.16</td>\n",
              "      <td>2.36</td>\n",
              "      <td>2.67</td>\n",
              "      <td>18.6</td>\n",
              "      <td>101</td>\n",
              "      <td>2.80</td>\n",
              "      <td>3.24</td>\n",
              "      <td>0.30</td>\n",
              "      <td>2.81</td>\n",
              "      <td>5.68</td>\n",
              "      <td>1.03</td>\n",
              "      <td>3.17</td>\n",
              "      <td>1185</td>\n",
              "    </tr>\n",
              "    <tr>\n",
              "      <th>3</th>\n",
              "      <td>14.37</td>\n",
              "      <td>1.95</td>\n",
              "      <td>2.50</td>\n",
              "      <td>16.8</td>\n",
              "      <td>113</td>\n",
              "      <td>3.85</td>\n",
              "      <td>3.49</td>\n",
              "      <td>0.24</td>\n",
              "      <td>2.18</td>\n",
              "      <td>7.80</td>\n",
              "      <td>0.86</td>\n",
              "      <td>3.45</td>\n",
              "      <td>1480</td>\n",
              "    </tr>\n",
              "    <tr>\n",
              "      <th>4</th>\n",
              "      <td>13.24</td>\n",
              "      <td>2.59</td>\n",
              "      <td>2.87</td>\n",
              "      <td>21.0</td>\n",
              "      <td>118</td>\n",
              "      <td>2.80</td>\n",
              "      <td>2.69</td>\n",
              "      <td>0.39</td>\n",
              "      <td>1.82</td>\n",
              "      <td>4.32</td>\n",
              "      <td>1.04</td>\n",
              "      <td>2.93</td>\n",
              "      <td>735</td>\n",
              "    </tr>\n",
              "    <tr>\n",
              "      <th>...</th>\n",
              "      <td>...</td>\n",
              "      <td>...</td>\n",
              "      <td>...</td>\n",
              "      <td>...</td>\n",
              "      <td>...</td>\n",
              "      <td>...</td>\n",
              "      <td>...</td>\n",
              "      <td>...</td>\n",
              "      <td>...</td>\n",
              "      <td>...</td>\n",
              "      <td>...</td>\n",
              "      <td>...</td>\n",
              "      <td>...</td>\n",
              "    </tr>\n",
              "    <tr>\n",
              "      <th>173</th>\n",
              "      <td>13.71</td>\n",
              "      <td>5.65</td>\n",
              "      <td>2.45</td>\n",
              "      <td>20.5</td>\n",
              "      <td>95</td>\n",
              "      <td>1.68</td>\n",
              "      <td>0.61</td>\n",
              "      <td>0.52</td>\n",
              "      <td>1.06</td>\n",
              "      <td>7.70</td>\n",
              "      <td>0.64</td>\n",
              "      <td>1.74</td>\n",
              "      <td>740</td>\n",
              "    </tr>\n",
              "    <tr>\n",
              "      <th>174</th>\n",
              "      <td>13.40</td>\n",
              "      <td>3.91</td>\n",
              "      <td>2.48</td>\n",
              "      <td>23.0</td>\n",
              "      <td>102</td>\n",
              "      <td>1.80</td>\n",
              "      <td>0.75</td>\n",
              "      <td>0.43</td>\n",
              "      <td>1.41</td>\n",
              "      <td>7.30</td>\n",
              "      <td>0.70</td>\n",
              "      <td>1.56</td>\n",
              "      <td>750</td>\n",
              "    </tr>\n",
              "    <tr>\n",
              "      <th>175</th>\n",
              "      <td>13.27</td>\n",
              "      <td>4.28</td>\n",
              "      <td>2.26</td>\n",
              "      <td>20.0</td>\n",
              "      <td>120</td>\n",
              "      <td>1.59</td>\n",
              "      <td>0.69</td>\n",
              "      <td>0.43</td>\n",
              "      <td>1.35</td>\n",
              "      <td>10.20</td>\n",
              "      <td>0.59</td>\n",
              "      <td>1.56</td>\n",
              "      <td>835</td>\n",
              "    </tr>\n",
              "    <tr>\n",
              "      <th>176</th>\n",
              "      <td>13.17</td>\n",
              "      <td>2.59</td>\n",
              "      <td>2.37</td>\n",
              "      <td>20.0</td>\n",
              "      <td>120</td>\n",
              "      <td>1.65</td>\n",
              "      <td>0.68</td>\n",
              "      <td>0.53</td>\n",
              "      <td>1.46</td>\n",
              "      <td>9.30</td>\n",
              "      <td>0.60</td>\n",
              "      <td>1.62</td>\n",
              "      <td>840</td>\n",
              "    </tr>\n",
              "    <tr>\n",
              "      <th>177</th>\n",
              "      <td>14.13</td>\n",
              "      <td>4.10</td>\n",
              "      <td>2.74</td>\n",
              "      <td>24.5</td>\n",
              "      <td>96</td>\n",
              "      <td>2.05</td>\n",
              "      <td>0.76</td>\n",
              "      <td>0.56</td>\n",
              "      <td>1.35</td>\n",
              "      <td>9.20</td>\n",
              "      <td>0.61</td>\n",
              "      <td>1.60</td>\n",
              "      <td>560</td>\n",
              "    </tr>\n",
              "  </tbody>\n",
              "</table>\n",
              "<p>178 rows × 13 columns</p>\n",
              "</div>"
            ],
            "text/plain": [
              "     Alcohol  Malic_Acid   Ash  ...   Hue  OD280  Proline\n",
              "0      14.23        1.71  2.43  ...  1.04   3.92     1065\n",
              "1      13.20        1.78  2.14  ...  1.05   3.40     1050\n",
              "2      13.16        2.36  2.67  ...  1.03   3.17     1185\n",
              "3      14.37        1.95  2.50  ...  0.86   3.45     1480\n",
              "4      13.24        2.59  2.87  ...  1.04   2.93      735\n",
              "..       ...         ...   ...  ...   ...    ...      ...\n",
              "173    13.71        5.65  2.45  ...  0.64   1.74      740\n",
              "174    13.40        3.91  2.48  ...  0.70   1.56      750\n",
              "175    13.27        4.28  2.26  ...  0.59   1.56      835\n",
              "176    13.17        2.59  2.37  ...  0.60   1.62      840\n",
              "177    14.13        4.10  2.74  ...  0.61   1.60      560\n",
              "\n",
              "[178 rows x 13 columns]"
            ]
          },
          "metadata": {
            "tags": []
          },
          "execution_count": 3
        }
      ]
    },
    {
      "cell_type": "markdown",
      "metadata": {
        "id": "emUi2_J7f0XB",
        "colab_type": "text"
      },
      "source": [
        "Note : Based on part 01 (EDA),  \n",
        "the data set has no missing values,  \n",
        "but has almost 10% are outliers.\n",
        "\n",
        "Feature Engineering : Standardization using StandardScaler"
      ]
    },
    {
      "cell_type": "code",
      "metadata": {
        "id": "PUdIbzn_lqiU",
        "colab_type": "code",
        "colab": {}
      },
      "source": [
        "X = df.loc[:,:]"
      ],
      "execution_count": 0,
      "outputs": []
    },
    {
      "cell_type": "markdown",
      "metadata": {
        "id": "r2jpBepljkBf",
        "colab_type": "text"
      },
      "source": [
        "# K-Means Clustering"
      ]
    },
    {
      "cell_type": "markdown",
      "metadata": {
        "id": "2eKteLYTjob0",
        "colab_type": "text"
      },
      "source": [
        "## Preprocessor"
      ]
    },
    {
      "cell_type": "code",
      "metadata": {
        "id": "Yei9zoXRj3Pm",
        "colab_type": "code",
        "colab": {}
      },
      "source": [
        "preprocessor = StandardScaler()\n",
        "preprocessor.fit(X)\n",
        "scaled_X = preprocessor.transform(X)"
      ],
      "execution_count": 0,
      "outputs": []
    },
    {
      "cell_type": "markdown",
      "metadata": {
        "id": "FPqzOR7tlGNg",
        "colab_type": "text"
      },
      "source": [
        "## Elbow Method\n",
        "To find optimal number of cluster.  \n",
        "wcss list is used to keep sum of squared distances of samples to their closest cluster center (inertia_)"
      ]
    },
    {
      "cell_type": "code",
      "metadata": {
        "id": "OR3E4Ci8lJGx",
        "colab_type": "code",
        "colab": {}
      },
      "source": [
        "wcss = []\n",
        "\n",
        "for i in range(1, 11) :\n",
        "  kmeans = KMeans(n_clusters = i, init = 'k-means++')\n",
        "  kmeans.fit(scaled_X)\n",
        "  wcss.append(kmeans.inertia_)"
      ],
      "execution_count": 0,
      "outputs": []
    },
    {
      "cell_type": "code",
      "metadata": {
        "id": "ROdKmOzrmF20",
        "colab_type": "code",
        "colab": {
          "base_uri": "https://localhost:8080/",
          "height": 295
        },
        "outputId": "c54a3de3-2478-4762-c5ae-a0537ddb553e"
      },
      "source": [
        "sns.lineplot(x=range(1,11), y=wcss)\n",
        "plt.title('Elbow Method')\n",
        "plt.xlabel('Number of clusters')\n",
        "plt.ylabel('wcss')\n",
        "plt.show()"
      ],
      "execution_count": 7,
      "outputs": [
        {
          "output_type": "display_data",
          "data": {
            "image/png": "[encoded data removed]",
            "text/plain": [
              "<Figure size 432x288 with 1 Axes>"
            ]
          },
          "metadata": {
            "tags": [],
            "needs_background": "light"
          }
        }
      ]
    },
    {
      "cell_type": "markdown",
      "metadata": {
        "id": "6B_WUVGboIDK",
        "colab_type": "text"
      },
      "source": [
        "Note : optimal number of cluster is 3."
      ]
    },
    {
      "cell_type": "markdown",
      "metadata": {
        "id": "IMJ7rXN9oQFE",
        "colab_type": "text"
      },
      "source": [
        "## Clustering"
      ]
    },
    {
      "cell_type": "code",
      "metadata": {
        "id": "GqnrKiPpoYPF",
        "colab_type": "code",
        "colab": {}
      },
      "source": [
        "model = KMeans(n_clusters = 3, init = 'k-means++')\n",
        "y_kmeans = model.fit_predict(scaled_X)"
      ],
      "execution_count": 0,
      "outputs": []
    },
    {
      "cell_type": "markdown",
      "metadata": {
        "id": "H6EzpBbNplaH",
        "colab_type": "text"
      },
      "source": [
        "## Results"
      ]
    },
    {
      "cell_type": "markdown",
      "metadata": {
        "id": "PGcldN3dq4-3",
        "colab_type": "text"
      },
      "source": [
        "Centroids"
      ]
    },
    {
      "cell_type": "code",
      "metadata": {
        "id": "giU4_q4A9TAi",
        "colab_type": "code",
        "colab": {
          "base_uri": "https://localhost:8080/",
          "height": 170
        },
        "outputId": "f0083631-b069-475a-d1f9-001a7880122e"
      },
      "source": [
        "# scaled centroids\n",
        "model.cluster_centers_"
      ],
      "execution_count": 9,
      "outputs": [
        {
          "output_type": "execute_result",
          "data": {
            "text/plain": [
              "array([[-0.92607185, -0.39404154, -0.49451676,  0.17060184, -0.49171185,\n",
              "        -0.07598265,  0.02081257, -0.03353357,  0.0582655 , -0.90191402,\n",
              "         0.46180361,  0.27076419, -0.75384618],\n",
              "       [ 0.16490746,  0.87154706,  0.18689833,  0.52436746, -0.07547277,\n",
              "        -0.97933029, -1.21524764,  0.72606354, -0.77970639,  0.94153874,\n",
              "        -1.16478865, -1.29241163, -0.40708796],\n",
              "       [ 0.83523208, -0.30380968,  0.36470604, -0.61019129,  0.5775868 ,\n",
              "         0.88523736,  0.97781956, -0.56208965,  0.58028658,  0.17106348,\n",
              "         0.47398365,  0.77924711,  1.12518529]])"
            ]
          },
          "metadata": {
            "tags": []
          },
          "execution_count": 9
        }
      ]
    },
    {
      "cell_type": "code",
      "metadata": {
        "id": "kTWuEmPZsXS0",
        "colab_type": "code",
        "colab": {}
      },
      "source": [
        "# rescaled centroids\n",
        "centroids = preprocessor.inverse_transform(model.cluster_centers_)"
      ],
      "execution_count": 0,
      "outputs": []
    },
    {
      "cell_type": "code",
      "metadata": {
        "id": "A4cBf7GGqv93",
        "colab_type": "code",
        "colab": {}
      },
      "source": [
        "centroids_df = pd.DataFrame(centroids, index=['centroid1','centroid2','centroid3'], columns=X.columns)"
      ],
      "execution_count": 0,
      "outputs": []
    },
    {
      "cell_type": "code",
      "metadata": {
        "id": "NK22zmpmryhz",
        "colab_type": "code",
        "colab": {
          "base_uri": "https://localhost:8080/",
          "height": 452
        },
        "outputId": "4cf02b2b-5af5-4823-8466-86ccbb3b0e2a"
      },
      "source": [
        "centroids_df.T"
      ],
      "execution_count": 12,
      "outputs": [
        {
          "output_type": "execute_result",
          "data": {
            "text/html": [
              "<div>\n",
              "<style scoped>\n",
              "    .dataframe tbody tr th:only-of-type {\n",
              "        vertical-align: middle;\n",
              "    }\n",
              "\n",
              "    .dataframe tbody tr th {\n",
              "        vertical-align: top;\n",
              "    }\n",
              "\n",
              "    .dataframe thead th {\n",
              "        text-align: right;\n",
              "    }\n",
              "</style>\n",
              "<table border=\"1\" class=\"dataframe\">\n",
              "  <thead>\n",
              "    <tr style=\"text-align: right;\">\n",
              "      <th></th>\n",
              "      <th>centroid1</th>\n",
              "      <th>centroid2</th>\n",
              "      <th>centroid3</th>\n",
              "    </tr>\n",
              "  </thead>\n",
              "  <tbody>\n",
              "    <tr>\n",
              "      <th>Alcohol</th>\n",
              "      <td>12.250923</td>\n",
              "      <td>13.134118</td>\n",
              "      <td>13.676774</td>\n",
              "    </tr>\n",
              "    <tr>\n",
              "      <th>Malic_Acid</th>\n",
              "      <td>1.897385</td>\n",
              "      <td>3.307255</td>\n",
              "      <td>1.997903</td>\n",
              "    </tr>\n",
              "    <tr>\n",
              "      <th>Ash</th>\n",
              "      <td>2.231231</td>\n",
              "      <td>2.417647</td>\n",
              "      <td>2.466290</td>\n",
              "    </tr>\n",
              "    <tr>\n",
              "      <th>Ash_Alcanity</th>\n",
              "      <td>20.063077</td>\n",
              "      <td>21.241176</td>\n",
              "      <td>17.462903</td>\n",
              "    </tr>\n",
              "    <tr>\n",
              "      <th>Magnesium</th>\n",
              "      <td>92.738462</td>\n",
              "      <td>98.666667</td>\n",
              "      <td>107.967742</td>\n",
              "    </tr>\n",
              "    <tr>\n",
              "      <th>Total_Phenols</th>\n",
              "      <td>2.247692</td>\n",
              "      <td>1.683922</td>\n",
              "      <td>2.847581</td>\n",
              "    </tr>\n",
              "    <tr>\n",
              "      <th>Flavanoids</th>\n",
              "      <td>2.050000</td>\n",
              "      <td>0.818824</td>\n",
              "      <td>3.003226</td>\n",
              "    </tr>\n",
              "    <tr>\n",
              "      <th>Nonflavanoid_Phenols</th>\n",
              "      <td>0.357692</td>\n",
              "      <td>0.451961</td>\n",
              "      <td>0.292097</td>\n",
              "    </tr>\n",
              "    <tr>\n",
              "      <th>Proanthocyanins</th>\n",
              "      <td>1.624154</td>\n",
              "      <td>1.145882</td>\n",
              "      <td>1.922097</td>\n",
              "    </tr>\n",
              "    <tr>\n",
              "      <th>Color_Intensity</th>\n",
              "      <td>2.973077</td>\n",
              "      <td>7.234706</td>\n",
              "      <td>5.453548</td>\n",
              "    </tr>\n",
              "    <tr>\n",
              "      <th>Hue</th>\n",
              "      <td>1.062708</td>\n",
              "      <td>0.691961</td>\n",
              "      <td>1.065484</td>\n",
              "    </tr>\n",
              "    <tr>\n",
              "      <th>OD280</th>\n",
              "      <td>2.803385</td>\n",
              "      <td>1.696667</td>\n",
              "      <td>3.163387</td>\n",
              "    </tr>\n",
              "    <tr>\n",
              "      <th>Proline</th>\n",
              "      <td>510.169231</td>\n",
              "      <td>619.058824</td>\n",
              "      <td>1100.225806</td>\n",
              "    </tr>\n",
              "  </tbody>\n",
              "</table>\n",
              "</div>"
            ],
            "text/plain": [
              "                       centroid1   centroid2    centroid3\n",
              "Alcohol                12.250923   13.134118    13.676774\n",
              "Malic_Acid              1.897385    3.307255     1.997903\n",
              "Ash                     2.231231    2.417647     2.466290\n",
              "Ash_Alcanity           20.063077   21.241176    17.462903\n",
              "Magnesium              92.738462   98.666667   107.967742\n",
              "Total_Phenols           2.247692    1.683922     2.847581\n",
              "Flavanoids              2.050000    0.818824     3.003226\n",
              "Nonflavanoid_Phenols    0.357692    0.451961     0.292097\n",
              "Proanthocyanins         1.624154    1.145882     1.922097\n",
              "Color_Intensity         2.973077    7.234706     5.453548\n",
              "Hue                     1.062708    0.691961     1.065484\n",
              "OD280                   2.803385    1.696667     3.163387\n",
              "Proline               510.169231  619.058824  1100.225806"
            ]
          },
          "metadata": {
            "tags": []
          },
          "execution_count": 12
        }
      ]
    },
    {
      "cell_type": "markdown",
      "metadata": {
        "id": "17jwz3Cpth8h",
        "colab_type": "text"
      },
      "source": [
        "index of wine records in each cluster"
      ]
    },
    {
      "cell_type": "code",
      "metadata": {
        "id": "nPB7O-Y8thqR",
        "colab_type": "code",
        "colab": {
          "base_uri": "https://localhost:8080/",
          "height": 289
        },
        "outputId": "991e2ea1-56f1-4faa-b7e6-1c72ffc860bf"
      },
      "source": [
        "print('Cluster 1 : ',len(X[y_kmeans==0]),' records\\n', X[y_kmeans==0].index.values)\n",
        "print('\\nCluster 2 : ',len(X[y_kmeans==1]),' records\\n', X[y_kmeans==1].index.values)\n",
        "print('\\nCluster 3 : ',len(X[y_kmeans==2]),' records\\n', X[y_kmeans==2].index.values)"
      ],
      "execution_count": 13,
      "outputs": [
        {
          "output_type": "stream",
          "text": [
            "Cluster 1 :  65  records\n",
            " [ 59  60  62  63  64  65  66  67  68  69  70  71  72  74  75  76  77  78\n",
            "  79  80  81  82  84  85  86  87  88  89  90  91  92  93  94  96  97  98\n",
            "  99 100 101 102 103 104 105 106 107 108 109 110 111 112 113 114 115 116\n",
            " 117 119 120 122 123 124 125 126 127 128 129]\n",
            "\n",
            "Cluster 2 :  51  records\n",
            " [ 61  83 118 130 131 132 133 134 135 136 137 138 139 140 141 142 143 144\n",
            " 145 146 147 148 149 150 151 152 153 154 155 156 157 158 159 160 161 162\n",
            " 163 164 165 166 167 168 169 170 171 172 173 174 175 176 177]\n",
            "\n",
            "Cluster 3 :  62  records\n",
            " [  0   1   2   3   4   5   6   7   8   9  10  11  12  13  14  15  16  17\n",
            "  18  19  20  21  22  23  24  25  26  27  28  29  30  31  32  33  34  35\n",
            "  36  37  38  39  40  41  42  43  44  45  46  47  48  49  50  51  52  53\n",
            "  54  55  56  57  58  73  95 121]\n"
          ],
          "name": "stdout"
        }
      ]
    },
    {
      "cell_type": "markdown",
      "metadata": {
        "id": "HydwFmYMugqj",
        "colab_type": "text"
      },
      "source": [
        "# Visualization\n",
        "needs Principal Component Analysis"
      ]
    },
    {
      "cell_type": "markdown",
      "metadata": {
        "id": "DgG37tRmvk9U",
        "colab_type": "text"
      },
      "source": [
        "## PCA 2D"
      ]
    },
    {
      "cell_type": "code",
      "metadata": {
        "id": "gG0Dy1bq-S1J",
        "colab_type": "code",
        "colab": {
          "base_uri": "https://localhost:8080/",
          "height": 439
        },
        "outputId": "1eef4ac4-0941-4dc0-9e83-440f6507b919"
      },
      "source": [
        "X"
      ],
      "execution_count": 14,
      "outputs": [
        {
          "output_type": "execute_result",
          "data": {
            "text/html": [
              "<div>\n",
              "<style scoped>\n",
              "    .dataframe tbody tr th:only-of-type {\n",
              "        vertical-align: middle;\n",
              "    }\n",
              "\n",
              "    .dataframe tbody tr th {\n",
              "        vertical-align: top;\n",
              "    }\n",
              "\n",
              "    .dataframe thead th {\n",
              "        text-align: right;\n",
              "    }\n",
              "</style>\n",
              "<table border=\"1\" class=\"dataframe\">\n",
              "  <thead>\n",
              "    <tr style=\"text-align: right;\">\n",
              "      <th></th>\n",
              "      <th>Alcohol</th>\n",
              "      <th>Malic_Acid</th>\n",
              "      <th>Ash</th>\n",
              "      <th>Ash_Alcanity</th>\n",
              "      <th>Magnesium</th>\n",
              "      <th>Total_Phenols</th>\n",
              "      <th>Flavanoids</th>\n",
              "      <th>Nonflavanoid_Phenols</th>\n",
              "      <th>Proanthocyanins</th>\n",
              "      <th>Color_Intensity</th>\n",
              "      <th>Hue</th>\n",
              "      <th>OD280</th>\n",
              "      <th>Proline</th>\n",
              "    </tr>\n",
              "  </thead>\n",
              "  <tbody>\n",
              "    <tr>\n",
              "      <th>0</th>\n",
              "      <td>14.23</td>\n",
              "      <td>1.71</td>\n",
              "      <td>2.43</td>\n",
              "      <td>15.6</td>\n",
              "      <td>127</td>\n",
              "      <td>2.80</td>\n",
              "      <td>3.06</td>\n",
              "      <td>0.28</td>\n",
              "      <td>2.29</td>\n",
              "      <td>5.64</td>\n",
              "      <td>1.04</td>\n",
              "      <td>3.92</td>\n",
              "      <td>1065</td>\n",
              "    </tr>\n",
              "    <tr>\n",
              "      <th>1</th>\n",
              "      <td>13.20</td>\n",
              "      <td>1.78</td>\n",
              "      <td>2.14</td>\n",
              "      <td>11.2</td>\n",
              "      <td>100</td>\n",
              "      <td>2.65</td>\n",
              "      <td>2.76</td>\n",
              "      <td>0.26</td>\n",
              "      <td>1.28</td>\n",
              "      <td>4.38</td>\n",
              "      <td>1.05</td>\n",
              "      <td>3.40</td>\n",
              "      <td>1050</td>\n",
              "    </tr>\n",
              "    <tr>\n",
              "      <th>2</th>\n",
              "      <td>13.16</td>\n",
              "      <td>2.36</td>\n",
              "      <td>2.67</td>\n",
              "      <td>18.6</td>\n",
              "      <td>101</td>\n",
              "      <td>2.80</td>\n",
              "      <td>3.24</td>\n",
              "      <td>0.30</td>\n",
              "      <td>2.81</td>\n",
              "      <td>5.68</td>\n",
              "      <td>1.03</td>\n",
              "      <td>3.17</td>\n",
              "      <td>1185</td>\n",
              "    </tr>\n",
              "    <tr>\n",
              "      <th>3</th>\n",
              "      <td>14.37</td>\n",
              "      <td>1.95</td>\n",
              "      <td>2.50</td>\n",
              "      <td>16.8</td>\n",
              "      <td>113</td>\n",
              "      <td>3.85</td>\n",
              "      <td>3.49</td>\n",
              "      <td>0.24</td>\n",
              "      <td>2.18</td>\n",
              "      <td>7.80</td>\n",
              "      <td>0.86</td>\n",
              "      <td>3.45</td>\n",
              "      <td>1480</td>\n",
              "    </tr>\n",
              "    <tr>\n",
              "      <th>4</th>\n",
              "      <td>13.24</td>\n",
              "      <td>2.59</td>\n",
              "      <td>2.87</td>\n",
              "      <td>21.0</td>\n",
              "      <td>118</td>\n",
              "      <td>2.80</td>\n",
              "      <td>2.69</td>\n",
              "      <td>0.39</td>\n",
              "      <td>1.82</td>\n",
              "      <td>4.32</td>\n",
              "      <td>1.04</td>\n",
              "      <td>2.93</td>\n",
              "      <td>735</td>\n",
              "    </tr>\n",
              "    <tr>\n",
              "      <th>...</th>\n",
              "      <td>...</td>\n",
              "      <td>...</td>\n",
              "      <td>...</td>\n",
              "      <td>...</td>\n",
              "      <td>...</td>\n",
              "      <td>...</td>\n",
              "      <td>...</td>\n",
              "      <td>...</td>\n",
              "      <td>...</td>\n",
              "      <td>...</td>\n",
              "      <td>...</td>\n",
              "      <td>...</td>\n",
              "      <td>...</td>\n",
              "    </tr>\n",
              "    <tr>\n",
              "      <th>173</th>\n",
              "      <td>13.71</td>\n",
              "      <td>5.65</td>\n",
              "      <td>2.45</td>\n",
              "      <td>20.5</td>\n",
              "      <td>95</td>\n",
              "      <td>1.68</td>\n",
              "      <td>0.61</td>\n",
              "      <td>0.52</td>\n",
              "      <td>1.06</td>\n",
              "      <td>7.70</td>\n",
              "      <td>0.64</td>\n",
              "      <td>1.74</td>\n",
              "      <td>740</td>\n",
              "    </tr>\n",
              "    <tr>\n",
              "      <th>174</th>\n",
              "      <td>13.40</td>\n",
              "      <td>3.91</td>\n",
              "      <td>2.48</td>\n",
              "      <td>23.0</td>\n",
              "      <td>102</td>\n",
              "      <td>1.80</td>\n",
              "      <td>0.75</td>\n",
              "      <td>0.43</td>\n",
              "      <td>1.41</td>\n",
              "      <td>7.30</td>\n",
              "      <td>0.70</td>\n",
              "      <td>1.56</td>\n",
              "      <td>750</td>\n",
              "    </tr>\n",
              "    <tr>\n",
              "      <th>175</th>\n",
              "      <td>13.27</td>\n",
              "      <td>4.28</td>\n",
              "      <td>2.26</td>\n",
              "      <td>20.0</td>\n",
              "      <td>120</td>\n",
              "      <td>1.59</td>\n",
              "      <td>0.69</td>\n",
              "      <td>0.43</td>\n",
              "      <td>1.35</td>\n",
              "      <td>10.20</td>\n",
              "      <td>0.59</td>\n",
              "      <td>1.56</td>\n",
              "      <td>835</td>\n",
              "    </tr>\n",
              "    <tr>\n",
              "      <th>176</th>\n",
              "      <td>13.17</td>\n",
              "      <td>2.59</td>\n",
              "      <td>2.37</td>\n",
              "      <td>20.0</td>\n",
              "      <td>120</td>\n",
              "      <td>1.65</td>\n",
              "      <td>0.68</td>\n",
              "      <td>0.53</td>\n",
              "      <td>1.46</td>\n",
              "      <td>9.30</td>\n",
              "      <td>0.60</td>\n",
              "      <td>1.62</td>\n",
              "      <td>840</td>\n",
              "    </tr>\n",
              "    <tr>\n",
              "      <th>177</th>\n",
              "      <td>14.13</td>\n",
              "      <td>4.10</td>\n",
              "      <td>2.74</td>\n",
              "      <td>24.5</td>\n",
              "      <td>96</td>\n",
              "      <td>2.05</td>\n",
              "      <td>0.76</td>\n",
              "      <td>0.56</td>\n",
              "      <td>1.35</td>\n",
              "      <td>9.20</td>\n",
              "      <td>0.61</td>\n",
              "      <td>1.60</td>\n",
              "      <td>560</td>\n",
              "    </tr>\n",
              "  </tbody>\n",
              "</table>\n",
              "<p>178 rows × 13 columns</p>\n",
              "</div>"
            ],
            "text/plain": [
              "     Alcohol  Malic_Acid   Ash  ...   Hue  OD280  Proline\n",
              "0      14.23        1.71  2.43  ...  1.04   3.92     1065\n",
              "1      13.20        1.78  2.14  ...  1.05   3.40     1050\n",
              "2      13.16        2.36  2.67  ...  1.03   3.17     1185\n",
              "3      14.37        1.95  2.50  ...  0.86   3.45     1480\n",
              "4      13.24        2.59  2.87  ...  1.04   2.93      735\n",
              "..       ...         ...   ...  ...   ...    ...      ...\n",
              "173    13.71        5.65  2.45  ...  0.64   1.74      740\n",
              "174    13.40        3.91  2.48  ...  0.70   1.56      750\n",
              "175    13.27        4.28  2.26  ...  0.59   1.56      835\n",
              "176    13.17        2.59  2.37  ...  0.60   1.62      840\n",
              "177    14.13        4.10  2.74  ...  0.61   1.60      560\n",
              "\n",
              "[178 rows x 13 columns]"
            ]
          },
          "metadata": {
            "tags": []
          },
          "execution_count": 14
        }
      ]
    },
    {
      "cell_type": "code",
      "metadata": {
        "id": "tom-2eyC-UeU",
        "colab_type": "code",
        "colab": {
          "base_uri": "https://localhost:8080/",
          "height": 162
        },
        "outputId": "82fe0994-56bf-4f44-a0d9-540c811208e4"
      },
      "source": [
        "centroids_df"
      ],
      "execution_count": 15,
      "outputs": [
        {
          "output_type": "execute_result",
          "data": {
            "text/html": [
              "<div>\n",
              "<style scoped>\n",
              "    .dataframe tbody tr th:only-of-type {\n",
              "        vertical-align: middle;\n",
              "    }\n",
              "\n",
              "    .dataframe tbody tr th {\n",
              "        vertical-align: top;\n",
              "    }\n",
              "\n",
              "    .dataframe thead th {\n",
              "        text-align: right;\n",
              "    }\n",
              "</style>\n",
              "<table border=\"1\" class=\"dataframe\">\n",
              "  <thead>\n",
              "    <tr style=\"text-align: right;\">\n",
              "      <th></th>\n",
              "      <th>Alcohol</th>\n",
              "      <th>Malic_Acid</th>\n",
              "      <th>Ash</th>\n",
              "      <th>Ash_Alcanity</th>\n",
              "      <th>Magnesium</th>\n",
              "      <th>Total_Phenols</th>\n",
              "      <th>Flavanoids</th>\n",
              "      <th>Nonflavanoid_Phenols</th>\n",
              "      <th>Proanthocyanins</th>\n",
              "      <th>Color_Intensity</th>\n",
              "      <th>Hue</th>\n",
              "      <th>OD280</th>\n",
              "      <th>Proline</th>\n",
              "    </tr>\n",
              "  </thead>\n",
              "  <tbody>\n",
              "    <tr>\n",
              "      <th>centroid1</th>\n",
              "      <td>12.250923</td>\n",
              "      <td>1.897385</td>\n",
              "      <td>2.231231</td>\n",
              "      <td>20.063077</td>\n",
              "      <td>92.738462</td>\n",
              "      <td>2.247692</td>\n",
              "      <td>2.050000</td>\n",
              "      <td>0.357692</td>\n",
              "      <td>1.624154</td>\n",
              "      <td>2.973077</td>\n",
              "      <td>1.062708</td>\n",
              "      <td>2.803385</td>\n",
              "      <td>510.169231</td>\n",
              "    </tr>\n",
              "    <tr>\n",
              "      <th>centroid2</th>\n",
              "      <td>13.134118</td>\n",
              "      <td>3.307255</td>\n",
              "      <td>2.417647</td>\n",
              "      <td>21.241176</td>\n",
              "      <td>98.666667</td>\n",
              "      <td>1.683922</td>\n",
              "      <td>0.818824</td>\n",
              "      <td>0.451961</td>\n",
              "      <td>1.145882</td>\n",
              "      <td>7.234706</td>\n",
              "      <td>0.691961</td>\n",
              "      <td>1.696667</td>\n",
              "      <td>619.058824</td>\n",
              "    </tr>\n",
              "    <tr>\n",
              "      <th>centroid3</th>\n",
              "      <td>13.676774</td>\n",
              "      <td>1.997903</td>\n",
              "      <td>2.466290</td>\n",
              "      <td>17.462903</td>\n",
              "      <td>107.967742</td>\n",
              "      <td>2.847581</td>\n",
              "      <td>3.003226</td>\n",
              "      <td>0.292097</td>\n",
              "      <td>1.922097</td>\n",
              "      <td>5.453548</td>\n",
              "      <td>1.065484</td>\n",
              "      <td>3.163387</td>\n",
              "      <td>1100.225806</td>\n",
              "    </tr>\n",
              "  </tbody>\n",
              "</table>\n",
              "</div>"
            ],
            "text/plain": [
              "             Alcohol  Malic_Acid       Ash  ...       Hue     OD280      Proline\n",
              "centroid1  12.250923    1.897385  2.231231  ...  1.062708  2.803385   510.169231\n",
              "centroid2  13.134118    3.307255  2.417647  ...  0.691961  1.696667   619.058824\n",
              "centroid3  13.676774    1.997903  2.466290  ...  1.065484  3.163387  1100.225806\n",
              "\n",
              "[3 rows x 13 columns]"
            ]
          },
          "metadata": {
            "tags": []
          },
          "execution_count": 15
        }
      ]
    },
    {
      "cell_type": "markdown",
      "metadata": {
        "id": "Krv8bPMx5sKc",
        "colab_type": "text"
      },
      "source": [
        "pca on X"
      ]
    },
    {
      "cell_type": "code",
      "metadata": {
        "id": "fMONyIjrvkSv",
        "colab_type": "code",
        "colab": {
          "base_uri": "https://localhost:8080/",
          "height": 34
        },
        "outputId": "2fff25c8-0b93-4c31-8c27-40ff734903e9"
      },
      "source": [
        "pca = PCA(n_components = 2)\n",
        "pca.fit(X)\n",
        "pca_X = pca.transform(X)\n",
        "explained_variance = pca.explained_variance_ratio_\n",
        "print('PCA n_components = 2 explained_variance : ', explained_variance)"
      ],
      "execution_count": 16,
      "outputs": [
        {
          "output_type": "stream",
          "text": [
            "PCA n_components = 2 explained_variance :  [0.99809123 0.00173592]\n"
          ],
          "name": "stdout"
        }
      ]
    },
    {
      "cell_type": "code",
      "metadata": {
        "id": "FRucJUBs-0dj",
        "colab_type": "code",
        "colab": {
          "base_uri": "https://localhost:8080/",
          "height": 1000
        },
        "outputId": "4aa3ac70-daa0-4dc9-a386-6b4f4419693a"
      },
      "source": [
        "pca_X"
      ],
      "execution_count": 17,
      "outputs": [
        {
          "output_type": "execute_result",
          "data": {
            "text/plain": [
              "array([[ 3.18562979e+02,  2.14921307e+01],\n",
              "       [ 3.03097420e+02, -5.36471768e+00],\n",
              "       [ 4.38061133e+02, -6.53730945e+00],\n",
              "       [ 7.33240139e+02,  1.92729032e-01],\n",
              "       [-1.15714285e+01,  1.84899946e+01],\n",
              "       [ 7.03231192e+02, -3.32158674e-01],\n",
              "       [ 5.42971581e+02, -1.35189666e+01],\n",
              "       [ 5.48401860e+02,  1.14494324e+01],\n",
              "       [ 2.98036863e+02, -8.18015784e+00],\n",
              "       [ 2.98049553e+02, -7.10154294e+00],\n",
              "       [ 7.63079712e+02, -8.33431723e+00],\n",
              "       [ 5.32943228e+02, -1.42876338e+01],\n",
              "       [ 5.72834410e+02, -2.10050143e+01],\n",
              "       [ 4.02925358e+02, -1.61026352e+01],\n",
              "       [ 8.00053394e+02, -1.21184472e+01],\n",
              "       [ 5.63245578e+02,  2.21482866e+00],\n",
              "       [ 5.33379651e+02,  1.08048022e+01],\n",
              "       [ 3.83317591e+02,  8.47741982e+00],\n",
              "       [ 9.33118387e+02, -8.35447844e+00],\n",
              "       [ 9.84031775e+01,  1.43926594e+01],\n",
              "       [ 3.35935940e+01,  2.55679565e+01],\n",
              "       [ 2.31464375e+01,  1.81747309e+00],\n",
              "       [ 2.88093030e+02, -3.96304175e+00],\n",
              "       [ 2.67981513e+02, -9.57070401e+00],\n",
              "       [ 9.80198858e+01, -5.49584606e+00],\n",
              "       [ 8.34987440e+01,  2.28916215e+01],\n",
              "       [ 4.47925596e+02, -1.47973313e+01],\n",
              "       [ 5.37919165e+02, -1.53883461e+01],\n",
              "       [ 1.68210468e+02,  4.25531096e+00],\n",
              "       [ 2.88008247e+02, -8.95973155e+00],\n",
              "       [ 5.38026452e+02, -8.21273882e+00],\n",
              "       [ 7.68092939e+02, -7.37989737e+00],\n",
              "       [ 2.43150751e+02, -1.43914928e-01],\n",
              "       [ 4.88601280e+02,  2.35653250e+01],\n",
              "       [ 3.48231007e+02,  4.03808015e+00],\n",
              "       [ 1.73079957e+02, -2.79292165e+00],\n",
              "       [ 1.33286424e+02,  7.77272958e+00],\n",
              "       [ 3.58018559e+02, -8.15798412e+00],\n",
              "       [ 2.73044432e+02, -6.72507431e+00],\n",
              "       [ 1.36430021e+01,  2.78468321e+01],\n",
              "       [ 4.84296422e+01,  1.63219498e+01],\n",
              "       [ 2.87884092e+02, -1.48851185e+01],\n",
              "       [ 3.48095348e+02, -5.04342609e+00],\n",
              "       [-6.68146554e+01,  4.38482992e+00],\n",
              "       [ 1.38227010e+02,  4.73068836e+00],\n",
              "       [ 3.33254806e+02,  5.31933116e+00],\n",
              "       [ 3.18111848e+02, -3.48694494e+00],\n",
              "       [ 2.38111485e+02, -3.05152100e+00],\n",
              "       [ 3.13119915e+02, -2.30536316e+00],\n",
              "       [ 5.13187748e+02, -8.63759235e-01],\n",
              "       [ 4.02939017e+02, -1.50533028e+01],\n",
              "       [ 5.17928963e+02, -1.49975549e+01],\n",
              "       [ 4.43266411e+02,  3.26050204e+00],\n",
              "       [ 6.28286071e+02,  4.04114538e+00],\n",
              "       [ 3.13397613e+02,  1.26089135e+01],\n",
              "       [ 3.73333291e+02,  9.66419863e+00],\n",
              "       [ 2.23417106e+02,  1.42168924e+01],\n",
              "       [ 5.23072851e+02, -7.09662526e+00],\n",
              "       [ 5.38182097e+02, -1.35678013e+00],\n",
              "       [-2.27032690e+02, -7.99496797e+00],\n",
              "       [-6.68501220e+01,  2.31986654e+00],\n",
              "       [-2.96824437e+02,  5.46847570e+00],\n",
              "       [-1.16970473e+02, -3.72638342e+00],\n",
              "       [-3.27059126e+02, -6.94813081e+00],\n",
              "       [-3.91752486e+02,  1.11716783e+01],\n",
              "       [-6.89057604e+01, -5.58620537e-01],\n",
              "       [-2.45212524e+02, -1.74936393e+01],\n",
              "       [-2.37241410e+02, -1.75310256e+01],\n",
              "       [ 3.29615599e+00,  1.00958116e+01],\n",
              "       [-2.79661207e+01,  5.16301252e+01],\n",
              "       [ 1.23130138e+02,  1.05983451e+00],\n",
              "       [-3.37104122e+02, -7.62385512e+00],\n",
              "       [-2.75096026e+02, -7.75315213e+00],\n",
              "       [ 2.38716757e+02,  3.52518274e+01],\n",
              "       [ 1.39094057e+02, -1.20747620e+00],\n",
              "       [-3.18876329e+02,  2.81077113e+00],\n",
              "       [-3.55060253e+02, -7.53070183e+00],\n",
              "       [-2.46633597e+02,  1.65584367e+01],\n",
              "       [ 3.77168966e+00,  3.60310924e+01],\n",
              "       [-2.83842248e+02,  6.36186080e+00],\n",
              "       [-4.69059350e+02, -5.45892398e+00],\n",
              "       [-3.31313392e+01, -1.31871050e+01],\n",
              "       [-1.17290392e+02, -1.95786125e+01],\n",
              "       [-2.32132988e+02, -1.05301033e+01],\n",
              "       [-2.26953299e+02, -1.77605879e+00],\n",
              "       [-2.96852152e+02,  4.45280309e+00],\n",
              "       [-2.52046392e+02, -5.21261759e+00],\n",
              "       [-1.85108857e+02, -8.31858202e+00],\n",
              "       [-6.71807518e+01, -1.45246902e+01],\n",
              "       [-1.22431326e+02, -2.75040387e+01],\n",
              "       [-2.67185333e+02, -1.40538901e+01],\n",
              "       [-2.97104415e+02, -8.41503161e+00],\n",
              "       [-2.52213885e+02, -1.52515702e+01],\n",
              "       [-4.57022215e+02, -3.69733793e+00],\n",
              "       [-4.01851274e+02,  5.33140022e+00],\n",
              "       [ 1.91183397e+02,  5.87937624e+01],\n",
              "       [-1.21279178e+02,  3.64175149e+01],\n",
              "       [-3.19088273e+02, -9.19307820e+00],\n",
              "       [-8.70802926e+01, -1.02265727e+01],\n",
              "       [-3.41040900e+02, -5.75056559e+00],\n",
              "       [-3.69316146e+01, -2.17041593e+00],\n",
              "       [-1.85073713e+02, -8.52051902e+00],\n",
              "       [-3.08882387e+02,  3.75165655e+00],\n",
              "       [-3.32089296e+02, -7.88372875e+00],\n",
              "       [-7.51531378e+01, -1.34138279e+01],\n",
              "       [-4.32009742e+02, -2.03294673e+00],\n",
              "       [-2.37206697e+02, -1.55619679e+01],\n",
              "       [-2.59148368e+02, -1.10788163e+01],\n",
              "       [-4.34957780e+02, -5.95260295e-02],\n",
              "       [-6.69906958e+01, -4.57145764e+00],\n",
              "       [-1.84736439e+02,  1.05164632e+01],\n",
              "       [-4.22042874e+02, -4.24492194e+00],\n",
              "       [-1.39818663e+02,  5.73555207e+00],\n",
              "       [-3.13060948e+02, -6.16709401e+00],\n",
              "       [-3.62129633e+02, -9.25929540e+00],\n",
              "       [-3.40115006e+02, -8.68973443e+00],\n",
              "       [-2.52109472e+02, -9.27587015e+00],\n",
              "       [-4.01695973e+02,  1.54258903e+01],\n",
              "       [-3.75171092e+02, -1.31850503e+01],\n",
              "       [-1.83097929e+02, -9.55354432e+00],\n",
              "       [-1.21945241e+02, -1.58889428e+00],\n",
              "       [-2.81534569e+02,  2.45082612e+01],\n",
              "       [-3.81826778e+02,  9.18910976e+00],\n",
              "       [-3.67089380e+02, -7.18821589e+00],\n",
              "       [-3.67157175e+02, -1.11963202e+01],\n",
              "       [-3.69103601e+02, -8.17580491e+00],\n",
              "       [-3.95078836e+02, -6.67983187e+00],\n",
              "       [-2.81030369e+02, -2.53586007e+00],\n",
              "       [-4.05061288e+02, -4.45107367e+00],\n",
              "       [-1.67237642e+02, -1.67311857e+01],\n",
              "       [-1.16473000e+02,  2.42660201e+01],\n",
              "       [-2.16784540e+02,  8.13044956e+00],\n",
              "       [-1.86915112e+02,  1.71005736e+00],\n",
              "       [-1.46769530e+02,  8.92033411e+00],\n",
              "       [-9.71329736e+01, -1.30582838e+01],\n",
              "       [-5.19820469e+01, -4.81229310e+00],\n",
              "       [-2.70979307e+01, -1.02299962e+01],\n",
              "       [-2.31951534e+02,  5.34907410e-01],\n",
              "       [-1.67076246e+02, -8.75672311e+00],\n",
              "       [-1.56868045e+02,  4.16316249e+00],\n",
              "       [-1.46946490e+02, -1.09672896e+00],\n",
              "       [ 3.29042927e+01, -1.13053656e+01],\n",
              "       [-2.26926210e+02,  1.38827837e+00],\n",
              "       [-1.97004347e+02, -4.22842870e+00],\n",
              "       [ 1.08312677e+02,  1.03513304e+01],\n",
              "       [ 8.31182626e+01,  8.06869695e-01],\n",
              "       [-3.32195840e+02, -1.38132989e+01],\n",
              "       [-1.22126092e+02, -1.14699259e+01],\n",
              "       [-9.70193893e+01, -5.90644258e+00],\n",
              "       [-1.96624807e+02,  1.68731139e+01],\n",
              "       [-2.46449199e+02,  2.78100954e+01],\n",
              "       [-2.66628788e+02,  1.71502320e+01],\n",
              "       [-3.21570741e+02,  2.21643401e+01],\n",
              "       [-7.18976587e+01, -3.99656400e-01],\n",
              "       [-1.06816618e+02,  5.20612307e+00],\n",
              "       [-2.20202568e+01, -6.22943925e+00],\n",
              "       [-2.67031732e+02, -5.92308914e+00],\n",
              "       [ 1.32999841e+02, -4.86770544e+00],\n",
              "       [-8.69139986e+01,  7.96357772e-02],\n",
              "       [-1.27061290e+02, -8.29141684e+00],\n",
              "       [-2.27068836e+02, -7.61863030e+00],\n",
              "       [-6.67554312e+01,  8.47028990e+00],\n",
              "       [-1.76765098e+02,  9.47319000e+00],\n",
              "       [-7.17683979e+01,  7.51063784e+00],\n",
              "       [-1.32048248e+02, -7.25503031e+00],\n",
              "       [-2.27077845e+02, -7.59337930e+00],\n",
              "       [-5.16895065e+01,  1.23580850e+01],\n",
              "       [-6.20850111e+01, -1.05540153e+01],\n",
              "       [ 3.18276465e+00,  5.39136150e+00],\n",
              "       [-1.16674818e+02,  1.45333703e+01],\n",
              "       [-2.36921208e+02,  4.63036998e-01],\n",
              "       [-2.77083578e+02, -8.74033191e+00],\n",
              "       [-8.70274026e+01, -7.10459575e+00],\n",
              "       [-6.98021096e+00, -4.54113657e+00],\n",
              "       [ 3.13160468e+00,  2.33519051e+00],\n",
              "       [ 8.84580737e+01,  1.87762846e+01],\n",
              "       [ 9.34562419e+01,  1.86708191e+01],\n",
              "       [-1.86943190e+02, -2.13330803e-01]])"
            ]
          },
          "metadata": {
            "tags": []
          },
          "execution_count": 17
        }
      ]
    },
    {
      "cell_type": "markdown",
      "metadata": {
        "id": "KsbcCX645y46",
        "colab_type": "text"
      },
      "source": [
        "pca on centroids"
      ]
    },
    {
      "cell_type": "code",
      "metadata": {
        "id": "RVtS1l-G5oy1",
        "colab_type": "code",
        "colab": {}
      },
      "source": [
        "pca_centroids = pca.transform(centroids_df)"
      ],
      "execution_count": 0,
      "outputs": []
    },
    {
      "cell_type": "code",
      "metadata": {
        "id": "upsPUYQP6Adp",
        "colab_type": "code",
        "colab": {
          "base_uri": "https://localhost:8080/",
          "height": 68
        },
        "outputId": "31cdd1c0-03d7-4ac9-e7af-b2c2a75b26c2"
      },
      "source": [
        "pca_centroids"
      ],
      "execution_count": 19,
      "outputs": [
        {
          "output_type": "execute_result",
          "data": {
            "text/plain": [
              "array([[-236.81556233,   -2.81057868],\n",
              "       [-127.83799912,    1.28002536],\n",
              "       [ 353.43144365,    1.89365033]])"
            ]
          },
          "metadata": {
            "tags": []
          },
          "execution_count": 19
        }
      ]
    },
    {
      "cell_type": "markdown",
      "metadata": {
        "id": "WLGagOczAAi7",
        "colab_type": "text"
      },
      "source": [
        "Plot"
      ]
    },
    {
      "cell_type": "code",
      "metadata": {
        "id": "ZAunJ3Nrwo_C",
        "colab_type": "code",
        "colab": {
          "base_uri": "https://localhost:8080/",
          "height": 282
        },
        "outputId": "b0ea305a-a073-4426-ec51-c02c1d6b0eea"
      },
      "source": [
        "plt.scatter(pca_X[y_kmeans==0,0], pca_X[y_kmeans==0,1],c='yellow')\n",
        "plt.scatter(pca_X[y_kmeans==1,0], pca_X[y_kmeans==1,1],c='green')\n",
        "plt.scatter(pca_X[y_kmeans==2,0], pca_X[y_kmeans==2,1],c='blue')\n",
        "plt.scatter(pca_centroids[:,0], pca_centroids[:,1], c='red')"
      ],
      "execution_count": 20,
      "outputs": [
        {
          "output_type": "execute_result",
          "data": {
            "text/plain": [
              "<matplotlib.collections.PathCollection at 0x7f4236a4ceb8>"
            ]
          },
          "metadata": {
            "tags": []
          },
          "execution_count": 20
        },
        {
          "output_type": "display_data",
          "data": {
            "image/png": "[encoded data removed]",
            "text/plain": [
              "<Figure size 432x288 with 1 Axes>"
            ]
          },
          "metadata": {
            "tags": [],
            "needs_background": "light"
          }
        }
      ]
    },
    {
      "cell_type": "markdown",
      "metadata": {
        "colab_type": "text",
        "id": "gLVUBCffyQA9"
      },
      "source": [
        "## PCA 3D"
      ]
    },
    {
      "cell_type": "markdown",
      "metadata": {
        "id": "UaFpv9aUBQA2",
        "colab_type": "text"
      },
      "source": [
        "pca on X"
      ]
    },
    {
      "cell_type": "code",
      "metadata": {
        "colab_type": "code",
        "id": "hEE77LfLyQA_",
        "colab": {}
      },
      "source": [
        "pca = PCA(n_components = 3)\n",
        "pca_X = pca.fit_transform(X)\n",
        "explained_variance = pca.explained_variance_ratio_"
      ],
      "execution_count": 0,
      "outputs": []
    },
    {
      "cell_type": "code",
      "metadata": {
        "colab_type": "code",
        "outputId": "4e9d899d-ce68-4902-c19e-ae9ff7dd21cd",
        "id": "OtSzXX46yQBH",
        "colab": {
          "base_uri": "https://localhost:8080/",
          "height": 34
        }
      },
      "source": [
        "explained_variance"
      ],
      "execution_count": 22,
      "outputs": [
        {
          "output_type": "execute_result",
          "data": {
            "text/plain": [
              "array([9.98091230e-01, 1.73591562e-03, 9.49589576e-05])"
            ]
          },
          "metadata": {
            "tags": []
          },
          "execution_count": 22
        }
      ]
    },
    {
      "cell_type": "code",
      "metadata": {
        "id": "1j9O2drpAj8w",
        "colab_type": "code",
        "colab": {
          "base_uri": "https://localhost:8080/",
          "height": 34
        },
        "outputId": "7fcd12ce-b9f1-49e2-98a7-94a3d51e55cc"
      },
      "source": [
        "explained_variance.sum()"
      ],
      "execution_count": 23,
      "outputs": [
        {
          "output_type": "execute_result",
          "data": {
            "text/plain": [
              "0.9999221050741547"
            ]
          },
          "metadata": {
            "tags": []
          },
          "execution_count": 23
        }
      ]
    },
    {
      "cell_type": "markdown",
      "metadata": {
        "id": "YsFmTLv6BTJh",
        "colab_type": "text"
      },
      "source": [
        "pca on centroids"
      ]
    },
    {
      "cell_type": "code",
      "metadata": {
        "id": "XhNvk6emBVgk",
        "colab_type": "code",
        "colab": {}
      },
      "source": [
        "pca_centroids = pca.transform(centroids)"
      ],
      "execution_count": 0,
      "outputs": []
    },
    {
      "cell_type": "code",
      "metadata": {
        "id": "p1PQCmA6Bc08",
        "colab_type": "code",
        "colab": {
          "base_uri": "https://localhost:8080/",
          "height": 68
        },
        "outputId": "3053534e-5944-480c-f94d-e4b89afafec2"
      },
      "source": [
        "pca_centroids"
      ],
      "execution_count": 25,
      "outputs": [
        {
          "output_type": "execute_result",
          "data": {
            "text/plain": [
              "array([[-236.81556233,   -2.81057868,    1.02799877],\n",
              "       [-127.83799912,    1.28002536,   -2.06132265],\n",
              "       [ 353.43144365,    1.89365033,    0.61786347]])"
            ]
          },
          "metadata": {
            "tags": []
          },
          "execution_count": 25
        }
      ]
    },
    {
      "cell_type": "markdown",
      "metadata": {
        "id": "WsCtKz5lBj_g",
        "colab_type": "text"
      },
      "source": [
        "Create DataFrame for plotly"
      ]
    },
    {
      "cell_type": "code",
      "metadata": {
        "id": "0xMdFisO3mFO",
        "colab_type": "code",
        "colab": {}
      },
      "source": [
        "pcaX_3d_df = pd.DataFrame(pca_X, columns=['PCA1','PCA2','PCA3'])"
      ],
      "execution_count": 0,
      "outputs": []
    },
    {
      "cell_type": "code",
      "metadata": {
        "id": "a2RplazR32g3",
        "colab_type": "code",
        "colab": {}
      },
      "source": [
        "pcaX_3d_df['cluster'] = y_kmeans"
      ],
      "execution_count": 0,
      "outputs": []
    },
    {
      "cell_type": "code",
      "metadata": {
        "colab_type": "code",
        "outputId": "c3e96b2c-8306-42fc-c1e3-51deca045293",
        "id": "TmUjXcGoyQBL",
        "colab": {
          "base_uri": "https://localhost:8080/",
          "height": 542
        }
      },
      "source": [
        "import plotly.express as px\n",
        "\n",
        "fig = px.scatter_3d(pcaX_3d_df, x='PCA1',y='PCA2',z='PCA3',color='cluster')\n",
        "\n",
        "fig.show()"
      ],
      "execution_count": 28,
      "outputs": [
        {
          "output_type": "display_data",
          "data": {
            "text/html": [
              "<html>\n",
              "<head><meta charset=\"utf-8\" /></head>\n",
              "<body>\n",
              "    <div>\n",
              "            <script src=\"https://cdnjs.cloudflare.com/ajax/libs/mathjax/2.7.5/MathJax.js?config=TeX-AMS-MML_SVG\"></script><script type=\"text/javascript\">if (window.MathJax) {MathJax.Hub.Config({SVG: {font: \"STIX-Web\"}});}</script>\n",
              "                <script type=\"text/javascript\">window.PlotlyConfig = {MathJaxConfig: 'local'};</script>\n",
              "        <script src=\"https://cdn.plot.ly/plotly-latest.min.js\"></script>    \n",
              "            <div id=\"42f1fb04-7076-47ec-a80b-da6e52704b7d\" class=\"plotly-graph-div\" style=\"height:525px; width:100%;\"></div>\n",
              "            <script type=\"text/javascript\">\n",
              "                \n",
              "                    window.PLOTLYENV=window.PLOTLYENV || {};\n",
              "                    \n",
              "                if (document.getElementById(\"42f1fb04-7076-47ec-a80b-da6e52704b7d\")) {\n",
              "                    Plotly.newPlot(\n",
              "                        '42f1fb04-7076-47ec-a80b-da6e52704b7d',\n",
              "                        [{\"hoverlabel\": {\"namelength\": 0}, \"hovertemplate\": \"PCA1=%{x}<br>PCA2=%{y}<br>PCA3=%{z}<br>cluster=%{marker.color}\", \"legendgroup\": \"\", \"marker\": {\"color\": [2, 2, 2, 2, 2, 2, 2, 2, 2, 2, 2, 2, 2, 2, 2, 2, 2, 2, 2, 2, 2, 2, 2, 2, 2, 2, 2, 2, 2, 2, 2, 2, 2, 2, 2, 2, 2, 2, 2, 2, 2, 2, 2, 2, 2, 2, 2, 2, 2, 2, 2, 2, 2, 2, 2, 2, 2, 2, 2, 0, 0, 1, 0, 0, 0, 0, 0, 0, 0, 0, 0, 0, 0, 2, 0, 0, 0, 0, 0, 0, 0, 0, 0, 1, 0, 0, 0, 0, 0, 0, 0, 0, 0, 0, 0, 2, 0, 0, 0, 0, 0, 0, 0, 0, 0, 0, 0, 0, 0, 0, 0, 0, 0, 0, 0, 0, 0, 0, 1, 0, 0, 2, 0, 0, 0, 0, 0, 0, 0, 0, 1, 1, 1, 1, 1, 1, 1, 1, 1, 1, 1, 1, 1, 1, 1, 1, 1, 1, 1, 1, 1, 1, 1, 1, 1, 1, 1, 1, 1, 1, 1, 1, 1, 1, 1, 1, 1, 1, 1, 1, 1, 1, 1, 1, 1, 1, 1, 1], \"coloraxis\": \"coloraxis\", \"symbol\": \"circle\"}, \"mode\": \"markers\", \"name\": \"\", \"scene\": \"scene\", \"showlegend\": false, \"type\": \"scatter3d\", \"x\": [318.56297928793606, 303.0974196593867, 438.0611329172362, 733.2401393508114, -11.571428495905714, 703.231191737722, 542.9715808665926, 548.4018598404368, 298.0368628006117, 298.0495531354681, 763.0797119412472, 532.9432277319978, 572.8344103911645, 402.925358286097, 800.0533938569716, 563.2455779988175, 533.3796506359125, 383.3175910772751, 933.1183874996057, 98.40317747596016, 33.59359400185374, 23.146437540271176, 288.0930302174045, 267.98151253499145, 98.01988577277815, 83.49874396134193, 447.92559622234256, 537.9191650213771, 168.21046760464955, 288.0082470812645, 538.0264521021904, 768.0929388553866, 243.15075090189154, 488.60128004523574, 348.2310069968196, 173.07995742609629, 133.2864235465915, 358.01855917526643, 273.0444315214037, 13.643002113365352, 48.429642249929955, 287.8840921689912, 348.0953481804467, -66.81465538610269, 138.22700988344204, 333.25480582916646, 318.11184846663883, 238.1114850787225, 313.1199153878397, 513.187748021228, 402.9390171589734, 517.9289632654715, 443.26641129493294, 628.2860709851129, 313.39761267563216, 373.33329122237984, 223.4171063579505, 523.072851396616, 538.1820973229429, -227.03269045249664, -66.85012199724896, -296.82443689141553, -116.97047258185798, -327.05912559515144, -391.75248643604994, -68.90576044269494, -245.21252397707903, -237.2414102925168, 3.296155990980019, -27.96612073053924, 123.13013830856293, -337.1041224880135, -275.0960258796878, 238.71675654886113, 139.09405663995787, -318.8763289023294, -355.0602525141371, -246.63359745191576, 3.7716896555328097, -283.8422476447662, -469.05935030926645, -33.131339246156244, -117.29039200980702, -232.13298838412305, -226.95329942011853, -296.8521517343857, -252.04639192844033, -185.1088573734927, -67.18075184447473, -122.4313264012048, -267.1853332030436, -297.10441467528625, -252.21388507177036, -457.0222149421967, -401.85127408999585, 191.18339677250665, -121.27917775374142, -319.08827280468574, -87.08029256129839, -341.0409001673489, -36.93161455099812, -185.07371349407921, -308.882386612496, -332.08929638290084, -75.15313775202645, -432.00974192285344, -237.20669708725697, -259.1483677337963, -434.95778011238116, -66.99069577012962, -184.73643852532723, -422.04287362487906, -139.81866316131354, -313.060948162897, -362.1296331136066, -340.1150062142455, -252.10947206109927, -401.69597348176717, -375.1710923664662, -183.0979291819101, -121.94524134844438, -281.5345691197325, -381.82677823426366, -367.08938004599423, -367.1571746966122, -369.1036009666214, -395.07883645694096, -281.03036870910114, -405.0612878028858, -167.23764181767578, -116.47300035905555, -216.78453997810757, -186.91511196560174, -146.7695296248623, -97.13297359792641, -51.98204686718354, -27.097930749853262, -231.95153407062077, -167.07624576452395, -156.86804454285752, -146.9464895805512, 32.9042927488958, -226.92620968566456, -197.00434749401978, 108.3126773032599, 83.11826261248201, -332.19583999008887, -122.12609208783435, -97.01938926807355, -196.6248066040508, -246.4491992318416, -266.6287880497012, -321.5707409351809, -71.8976587062259, -106.81661780127247, -22.0202567985288, -267.03173230557616, 132.99984125218955, -86.91399859078071, -127.06128965116456, -227.0688357517346, -66.75543117637731, -176.76509842511697, -71.76839793240183, -132.04824836043474, -227.07784455326023, -51.689506459844424, -62.0850111243039, 3.1827646534929115, -116.67481804945254, -236.9212079418377, -277.08357825603923, -87.02740263137348, -6.980210958028543, 3.131604678755341, 88.45807368612962, 93.45624185410914, -186.9431902731094], \"y\": [21.492130734540016, -5.364717683064045, -6.5373094494400386, 0.19272903207214062, 18.48999460836035, -0.3321586742532798, -13.518966641596874, 11.449432383558477, -8.180157835408329, -7.101542937561729, -8.33431722629876, -14.287633770471396, -21.005014330071102, -16.102635218597186, -12.118447191589325, 2.214828664086272, 10.804802233662498, 8.477419817562929, -8.354478439743353, 14.392659413302272, 25.567956497752526, 1.8174730862651192, -3.9630417496650265, -9.570704013405837, -5.495846062188409, 22.891621549959417, -14.797331250759305, -15.38834606502355, 4.25531096314966, -8.959731549015746, -8.212738820938172, -7.379897374639953, -0.14391492761481167, 23.565325043240634, 4.03808014899822, -2.792921649776867, 7.7727295753494445, -8.15798411812405, -6.725074307758921, 27.846832147749094, 16.321949760522184, -14.885118535217178, -5.043426088455578, 4.384829918309577, 4.7306883598040335, 5.3193311582485086, -3.4869449391169316, -3.0515210012939504, -2.3053631635876317, -0.8637592352155269, -15.053302848806698, -14.997554888546452, 3.260502044073276, 4.041145380795893, 12.608913514882222, 9.664198626315423, 14.216892411736985, -7.096625255912908, -1.3567801281016312, -7.994967969134493, 2.3198665362225634, 5.468475698009883, -3.726383423155161, -6.948130808142178, 11.171678256222838, -0.5586205371242001, -17.49363929942056, -17.531025550918, 10.095811600653018, 51.6301251859264, 1.0598345145506747, -7.623855122175794, -7.753152131800829, 35.25182736823364, -1.2074761987360074, 2.8107711323253097, -7.530701831829733, 16.55843665055839, 36.03109236303351, 6.361860804858208, -5.458923979087499, -13.1871049572164, -19.57861246799193, -10.530103259648028, -1.7760587915564798, 4.452803088679305, -5.212617588104988, -8.318582024009324, -14.524690218444066, -27.504038698491346, -14.053890086022562, -8.415031614551141, -15.251570245283125, -3.6973379267771236, 5.331400215799381, 58.793762379561805, 36.41751488931709, -9.193078195295874, -10.226572689125998, -5.750565586578913, -2.17041592804606, -8.520519018587828, 3.7516565521730825, -7.8837287534396125, -13.413827944810862, -2.032946733749538, -15.561967932903483, -11.078816347723375, -0.05952602952400283, -4.571457640410523, 10.51646316056526, -4.244921941762492, 5.735552074296898, -6.167094011040847, -9.259295397921367, -8.689734429642714, -9.275870146862676, 15.425890267706611, -13.185050253814758, -9.553544319548784, -1.5888942780782436, 24.508261186546683, 9.18910975540572, -7.188215890256351, -11.196320221661292, -8.175804911790461, -6.679831873374485, -2.535860067717695, -4.451073669629212, -16.731185725058758, 24.26602005979749, 8.130449556224944, 1.7100573556775915, 8.920334113562182, -13.058283826880885, -4.812293096844395, -10.229996223962054, 0.5349074098240332, -8.756723111031363, 4.163162488055394, -1.0967289642032574, -11.305365635407657, 1.3882783668811056, -4.228428695529215, 10.351330443795757, 0.8068696950290786, -13.813298892465177, -11.469925859637058, -5.906442575323512, 16.873113924850287, 27.81009537953358, 17.15023199752926, 22.16434009720102, -0.39965639971936023, 5.206123065088721, -6.22943925484083, -5.92308914400984, -4.867705439544273, 0.07963577715360126, -8.291416841194463, -7.618630299434799, 8.470289897435148, 9.473190002016782, 7.51063784125773, -7.255030312061554, -7.593379303886877, 12.358084974597835, -10.554015295801586, 5.391361501575995, 14.533370347154206, 0.46303699755317096, -8.740331907970246, -7.10459574858172, -4.541136569158674, 2.335190511328367, 18.77628455835613, 18.670819123425396, -0.21333080312165545], \"z\": [3.130734704812439, 6.8228354952679835, -1.1132229813677692, -0.9172570156159506, -0.5544220764538605, 0.9493753343135407, 2.1269428292907557, 0.04049242022917661, 3.8809751711362006, 1.558455326905512, -1.8862903746692858, 0.13033523958244025, 0.3726148589301767, 5.675139863234843, 3.0465299070444676, -0.5255109845710303, -2.4765273440130207, -1.9897450127087366, -1.9329127593190993, 4.103746161566868, 4.033586149690676, 0.8871608409161794, 2.053713808520311, 0.7584118315838452, -0.3872976607905831, -4.278836526584909, 1.2198344514939692, 0.16469232934214836, -0.1033844078107608, 2.161498205662693, -5.168396279208268, -3.2299624131290368, 1.6808027280199207, -1.1716264175969942, -0.44767499520541515, -1.5097919841869463, 3.7192660754711664, 0.07320060546611168, 3.0347923708207776, 6.64055072610891, 3.361210127078722, -0.8069365283241725, 2.838968369028409, 2.3665429800657183, 2.1931658420629185, -0.7837581291546157, 1.993857380004544, 2.2273271441802875, -0.8559035268130583, -0.9638927665023304, 4.252680542396484, -0.29543347718325363, 3.2253348673124957, -0.35793152753207647, 2.004699364162213, -2.2920457516603934, 2.3878650381890707, 0.12928836917025108, 0.23097851091684296, 9.947131337767154, 4.126899332646682, 3.661755221543915, 2.219998841499901, 2.085708028521209, 3.024744638723451, 1.895069221949957, 4.993235932280134, 0.6560142273250334, 3.217792254383278, 4.999461281198778, -0.8110228828001242, -3.3355762596312912, -2.931177237618911, -9.00507573715864, -1.19825467833423, 5.007321550644149, 4.80195137509638, 3.440159403620586, 6.131874734582499, -1.308862765324616, 3.2013148618203306, 0.8942199036692945, -3.3971966275038215, -2.430109110116498, 3.0905958793243333, 3.6454550080961794, -1.4523108311782453, -4.8159312935868615, -1.471487029504566, -3.080385961549053, 2.343550415554175, -0.9727154519195664, -0.0105599736310285, 4.019284914658159, 3.8437198057476487, 2.368811543771218, 0.3231710329592402, 5.13148563454079, 1.5397074203801902, 3.4801889772237757, 2.5903095818237745, 2.250976706118112, 0.6457357499334243, 2.0412984683884074, -0.26944060999435454, -0.012978552046818735, 1.5472466138607375, -1.5999728457364595, 3.095052479157576, 0.6490086918742904, 1.7028908621079855, 1.0798031835078425, 0.5340291891297324, 0.4295837386826635, -0.8390443466870973, 0.3459305702058604, 0.5577057418652159, 0.24785618801490109, 4.609454691510663, 1.9084831633534698, 0.6556354295327403, -6.485045869937711, -4.133342046481064, -0.21865502663884737, 0.3655088712389237, 0.6398487191912712, 0.0618945570724701, -6.785925299912552, -2.207215363184751, -1.7368791369547942, 2.7892495021738557, 0.23992681020540568, -3.8561465240976585, -1.364481299264542, 1.6758577178581202, 0.16073012239293055, -1.8376558359592061, -4.831493112676001, -0.17737762526841644, -3.703076586415888, -1.0096025360789203, -1.3413769751850309, -2.9629536749922667, -0.12287404169148622, -0.48108542975833446, -1.7968429693435628, -0.17093583700298418, -3.0006437106280313, -2.9828262935565686, -2.253899631311593, -3.7507492905304636, -2.6831192631387717, -4.424342787525041, -0.7077531625493102, -0.733294017272639, -3.8648328232759375, -0.7032844576440157, -8.753798412442487, -7.171313675163068, -4.577280887569151, -1.855085433730618, -0.5491365352489411, -1.8428729242424686, 1.0122258512645863, -3.6633280994633974, -3.1040062972136533, -4.743612647166003, -1.942136043211383, -5.857239690699439, -5.754956502189565, 0.9701937431228055, -0.8396936183760306, -1.9605158219045435, -2.4747068615946195, -4.309930609696343, -2.2375765094484805, -1.7883915219577415, -5.630509838777159]}],\n",
              "                        {\"coloraxis\": {\"colorbar\": {\"title\": {\"text\": \"cluster\"}}, \"colorscale\": [[0.0, \"#0d0887\"], [0.1111111111111111, \"#46039f\"], [0.2222222222222222, \"#7201a8\"], [0.3333333333333333, \"#9c179e\"], [0.4444444444444444, \"#bd3786\"], [0.5555555555555556, \"#d8576b\"], [0.6666666666666666, \"#ed7953\"], [0.7777777777777778, \"#fb9f3a\"], [0.8888888888888888, \"#fdca26\"], [1.0, \"#f0f921\"]]}, \"legend\": {\"tracegroupgap\": 0}, \"margin\": {\"t\": 60}, \"scene\": {\"domain\": {\"x\": [0.0, 1.0], \"y\": [0.0, 1.0]}, \"xaxis\": {\"title\": {\"text\": \"PCA1\"}}, \"yaxis\": {\"title\": {\"text\": \"PCA2\"}}, \"zaxis\": {\"title\": {\"text\": \"PCA3\"}}}, \"template\": {\"data\": {\"bar\": [{\"error_x\": {\"color\": \"#2a3f5f\"}, \"error_y\": {\"color\": \"#2a3f5f\"}, \"marker\": {\"line\": {\"color\": \"#E5ECF6\", \"width\": 0.5}}, \"type\": \"bar\"}], \"barpolar\": [{\"marker\": {\"line\": {\"color\": \"#E5ECF6\", \"width\": 0.5}}, \"type\": \"barpolar\"}], \"carpet\": [{\"aaxis\": {\"endlinecolor\": \"#2a3f5f\", \"gridcolor\": \"white\", \"linecolor\": \"white\", \"minorgridcolor\": \"white\", \"startlinecolor\": \"#2a3f5f\"}, \"baxis\": {\"endlinecolor\": \"#2a3f5f\", \"gridcolor\": \"white\", \"linecolor\": \"white\", \"minorgridcolor\": \"white\", \"startlinecolor\": \"#2a3f5f\"}, \"type\": \"carpet\"}], \"choropleth\": [{\"colorbar\": {\"outlinewidth\": 0, \"ticks\": \"\"}, \"type\": \"choropleth\"}], \"contour\": [{\"colorbar\": {\"outlinewidth\": 0, \"ticks\": \"\"}, \"colorscale\": [[0.0, \"#0d0887\"], [0.1111111111111111, \"#46039f\"], [0.2222222222222222, \"#7201a8\"], [0.3333333333333333, \"#9c179e\"], [0.4444444444444444, \"#bd3786\"], [0.5555555555555556, \"#d8576b\"], [0.6666666666666666, \"#ed7953\"], [0.7777777777777778, \"#fb9f3a\"], [0.8888888888888888, \"#fdca26\"], [1.0, \"#f0f921\"]], \"type\": \"contour\"}], \"contourcarpet\": [{\"colorbar\": {\"outlinewidth\": 0, \"ticks\": \"\"}, \"type\": \"contourcarpet\"}], \"heatmap\": [{\"colorbar\": {\"outlinewidth\": 0, \"ticks\": \"\"}, \"colorscale\": [[0.0, \"#0d0887\"], [0.1111111111111111, \"#46039f\"], [0.2222222222222222, \"#7201a8\"], [0.3333333333333333, \"#9c179e\"], [0.4444444444444444, \"#bd3786\"], [0.5555555555555556, \"#d8576b\"], [0.6666666666666666, \"#ed7953\"], [0.7777777777777778, \"#fb9f3a\"], [0.8888888888888888, \"#fdca26\"], [1.0, \"#f0f921\"]], \"type\": \"heatmap\"}], \"heatmapgl\": [{\"colorbar\": {\"outlinewidth\": 0, \"ticks\": \"\"}, \"colorscale\": [[0.0, \"#0d0887\"], [0.1111111111111111, \"#46039f\"], [0.2222222222222222, \"#7201a8\"], [0.3333333333333333, \"#9c179e\"], [0.4444444444444444, \"#bd3786\"], [0.5555555555555556, \"#d8576b\"], [0.6666666666666666, \"#ed7953\"], [0.7777777777777778, \"#fb9f3a\"], [0.8888888888888888, \"#fdca26\"], [1.0, \"#f0f921\"]], \"type\": \"heatmapgl\"}], \"histogram\": [{\"marker\": {\"colorbar\": {\"outlinewidth\": 0, \"ticks\": \"\"}}, \"type\": \"histogram\"}], \"histogram2d\": [{\"colorbar\": {\"outlinewidth\": 0, \"ticks\": \"\"}, \"colorscale\": [[0.0, \"#0d0887\"], [0.1111111111111111, \"#46039f\"], [0.2222222222222222, \"#7201a8\"], [0.3333333333333333, \"#9c179e\"], [0.4444444444444444, \"#bd3786\"], [0.5555555555555556, \"#d8576b\"], [0.6666666666666666, \"#ed7953\"], [0.7777777777777778, \"#fb9f3a\"], [0.8888888888888888, \"#fdca26\"], [1.0, \"#f0f921\"]], \"type\": \"histogram2d\"}], \"histogram2dcontour\": [{\"colorbar\": {\"outlinewidth\": 0, \"ticks\": \"\"}, \"colorscale\": [[0.0, \"#0d0887\"], [0.1111111111111111, \"#46039f\"], [0.2222222222222222, \"#7201a8\"], [0.3333333333333333, \"#9c179e\"], [0.4444444444444444, \"#bd3786\"], [0.5555555555555556, \"#d8576b\"], [0.6666666666666666, \"#ed7953\"], [0.7777777777777778, \"#fb9f3a\"], [0.8888888888888888, \"#fdca26\"], [1.0, \"#f0f921\"]], \"type\": \"histogram2dcontour\"}], \"mesh3d\": [{\"colorbar\": {\"outlinewidth\": 0, \"ticks\": \"\"}, \"type\": \"mesh3d\"}], \"parcoords\": [{\"line\": {\"colorbar\": {\"outlinewidth\": 0, \"ticks\": \"\"}}, \"type\": \"parcoords\"}], \"pie\": [{\"automargin\": true, \"type\": \"pie\"}], \"scatter\": [{\"marker\": {\"colorbar\": {\"outlinewidth\": 0, \"ticks\": \"\"}}, \"type\": \"scatter\"}], \"scatter3d\": [{\"line\": {\"colorbar\": {\"outlinewidth\": 0, \"ticks\": \"\"}}, \"marker\": {\"colorbar\": {\"outlinewidth\": 0, \"ticks\": \"\"}}, \"type\": \"scatter3d\"}], \"scattercarpet\": [{\"marker\": {\"colorbar\": {\"outlinewidth\": 0, \"ticks\": \"\"}}, \"type\": \"scattercarpet\"}], \"scattergeo\": [{\"marker\": {\"colorbar\": {\"outlinewidth\": 0, \"ticks\": \"\"}}, \"type\": \"scattergeo\"}], \"scattergl\": [{\"marker\": {\"colorbar\": {\"outlinewidth\": 0, \"ticks\": \"\"}}, \"type\": \"scattergl\"}], \"scattermapbox\": [{\"marker\": {\"colorbar\": {\"outlinewidth\": 0, \"ticks\": \"\"}}, \"type\": \"scattermapbox\"}], \"scatterpolar\": [{\"marker\": {\"colorbar\": {\"outlinewidth\": 0, \"ticks\": \"\"}}, \"type\": \"scatterpolar\"}], \"scatterpolargl\": [{\"marker\": {\"colorbar\": {\"outlinewidth\": 0, \"ticks\": \"\"}}, \"type\": \"scatterpolargl\"}], \"scatterternary\": [{\"marker\": {\"colorbar\": {\"outlinewidth\": 0, \"ticks\": \"\"}}, \"type\": \"scatterternary\"}], \"surface\": [{\"colorbar\": {\"outlinewidth\": 0, \"ticks\": \"\"}, \"colorscale\": [[0.0, \"#0d0887\"], [0.1111111111111111, \"#46039f\"], [0.2222222222222222, \"#7201a8\"], [0.3333333333333333, \"#9c179e\"], [0.4444444444444444, \"#bd3786\"], [0.5555555555555556, \"#d8576b\"], [0.6666666666666666, \"#ed7953\"], [0.7777777777777778, \"#fb9f3a\"], [0.8888888888888888, \"#fdca26\"], [1.0, \"#f0f921\"]], \"type\": \"surface\"}], \"table\": [{\"cells\": {\"fill\": {\"color\": \"#EBF0F8\"}, \"line\": {\"color\": \"white\"}}, \"header\": {\"fill\": {\"color\": \"#C8D4E3\"}, \"line\": {\"color\": \"white\"}}, \"type\": \"table\"}]}, \"layout\": {\"annotationdefaults\": {\"arrowcolor\": \"#2a3f5f\", \"arrowhead\": 0, \"arrowwidth\": 1}, \"coloraxis\": {\"colorbar\": {\"outlinewidth\": 0, \"ticks\": \"\"}}, \"colorscale\": {\"diverging\": [[0, \"#8e0152\"], [0.1, \"#c51b7d\"], [0.2, \"#de77ae\"], [0.3, \"#f1b6da\"], [0.4, \"#fde0ef\"], [0.5, \"#f7f7f7\"], [0.6, \"#e6f5d0\"], [0.7, \"#b8e186\"], [0.8, \"#7fbc41\"], [0.9, \"#4d9221\"], [1, \"#276419\"]], \"sequential\": [[0.0, \"#0d0887\"], [0.1111111111111111, \"#46039f\"], [0.2222222222222222, \"#7201a8\"], [0.3333333333333333, \"#9c179e\"], [0.4444444444444444, \"#bd3786\"], [0.5555555555555556, \"#d8576b\"], [0.6666666666666666, \"#ed7953\"], [0.7777777777777778, \"#fb9f3a\"], [0.8888888888888888, \"#fdca26\"], [1.0, \"#f0f921\"]], \"sequentialminus\": [[0.0, \"#0d0887\"], [0.1111111111111111, \"#46039f\"], [0.2222222222222222, \"#7201a8\"], [0.3333333333333333, \"#9c179e\"], [0.4444444444444444, \"#bd3786\"], [0.5555555555555556, \"#d8576b\"], [0.6666666666666666, \"#ed7953\"], [0.7777777777777778, \"#fb9f3a\"], [0.8888888888888888, \"#fdca26\"], [1.0, \"#f0f921\"]]}, \"colorway\": [\"#636efa\", \"#EF553B\", \"#00cc96\", \"#ab63fa\", \"#FFA15A\", \"#19d3f3\", \"#FF6692\", \"#B6E880\", \"#FF97FF\", \"#FECB52\"], \"font\": {\"color\": \"#2a3f5f\"}, \"geo\": {\"bgcolor\": \"white\", \"lakecolor\": \"white\", \"landcolor\": \"#E5ECF6\", \"showlakes\": true, \"showland\": true, \"subunitcolor\": \"white\"}, \"hoverlabel\": {\"align\": \"left\"}, \"hovermode\": \"closest\", \"mapbox\": {\"style\": \"light\"}, \"paper_bgcolor\": \"white\", \"plot_bgcolor\": \"#E5ECF6\", \"polar\": {\"angularaxis\": {\"gridcolor\": \"white\", \"linecolor\": \"white\", \"ticks\": \"\"}, \"bgcolor\": \"#E5ECF6\", \"radialaxis\": {\"gridcolor\": \"white\", \"linecolor\": \"white\", \"ticks\": \"\"}}, \"scene\": {\"xaxis\": {\"backgroundcolor\": \"#E5ECF6\", \"gridcolor\": \"white\", \"gridwidth\": 2, \"linecolor\": \"white\", \"showbackground\": true, \"ticks\": \"\", \"zerolinecolor\": \"white\"}, \"yaxis\": {\"backgroundcolor\": \"#E5ECF6\", \"gridcolor\": \"white\", \"gridwidth\": 2, \"linecolor\": \"white\", \"showbackground\": true, \"ticks\": \"\", \"zerolinecolor\": \"white\"}, \"zaxis\": {\"backgroundcolor\": \"#E5ECF6\", \"gridcolor\": \"white\", \"gridwidth\": 2, \"linecolor\": \"white\", \"showbackground\": true, \"ticks\": \"\", \"zerolinecolor\": \"white\"}}, \"shapedefaults\": {\"line\": {\"color\": \"#2a3f5f\"}}, \"ternary\": {\"aaxis\": {\"gridcolor\": \"white\", \"linecolor\": \"white\", \"ticks\": \"\"}, \"baxis\": {\"gridcolor\": \"white\", \"linecolor\": \"white\", \"ticks\": \"\"}, \"bgcolor\": \"#E5ECF6\", \"caxis\": {\"gridcolor\": \"white\", \"linecolor\": \"white\", \"ticks\": \"\"}}, \"title\": {\"x\": 0.05}, \"xaxis\": {\"automargin\": true, \"gridcolor\": \"white\", \"linecolor\": \"white\", \"ticks\": \"\", \"title\": {\"standoff\": 15}, \"zerolinecolor\": \"white\", \"zerolinewidth\": 2}, \"yaxis\": {\"automargin\": true, \"gridcolor\": \"white\", \"linecolor\": \"white\", \"ticks\": \"\", \"title\": {\"standoff\": 15}, \"zerolinecolor\": \"white\", \"zerolinewidth\": 2}}}},\n",
              "                        {\"responsive\": true}\n",
              "                    ).then(function(){\n",
              "                            \n",
              "var gd = document.getElementById('42f1fb04-7076-47ec-a80b-da6e52704b7d');\n",
              "var x = new MutationObserver(function (mutations, observer) {{\n",
              "        var display = window.getComputedStyle(gd).display;\n",
              "        if (!display || display === 'none') {{\n",
              "            console.log([gd, 'removed!']);\n",
              "            Plotly.purge(gd);\n",
              "            observer.disconnect();\n",
              "        }}\n",
              "}});\n",
              "\n",
              "// Listen for the removal of the full notebook cells\n",
              "var notebookContainer = gd.closest('#notebook-container');\n",
              "if (notebookContainer) {{\n",
              "    x.observe(notebookContainer, {childList: true});\n",
              "}}\n",
              "\n",
              "// Listen for the clearing of the current output cell\n",
              "var outputEl = gd.closest('.output');\n",
              "if (outputEl) {{\n",
              "    x.observe(outputEl, {childList: true});\n",
              "}}\n",
              "\n",
              "                        })\n",
              "                };\n",
              "                \n",
              "            </script>\n",
              "        </div>\n",
              "</body>\n",
              "</html>"
            ]
          },
          "metadata": {
            "tags": []
          }
        }
      ]
    }
  ]
}